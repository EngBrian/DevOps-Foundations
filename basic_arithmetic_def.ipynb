{
 "cells": [
  {
   "cell_type": "code",
   "execution_count": 1,
   "metadata": {},
   "outputs": [
    {
     "name": "stdout",
     "output_type": "stream",
     "text": [
      "process declined\n"
     ]
    }
   ],
   "source": [
    "no_one = 12\n",
    "no_two = 25\n",
    "\n",
    "def summation(x,y):\n",
    "    sum = x+y\n",
    "    return sum\n",
    "results = summation(no_one, no_two)\n",
    "if results > 40:\n",
    "    print(f'Process continues value is {results}')\n",
    "else:\n",
    "    print('process declined')"
   ]
  },
  {
   "cell_type": "code",
   "execution_count": null,
   "metadata": {},
   "outputs": [],
   "source": []
  }
 ],
 "metadata": {
  "kernelspec": {
   "display_name": "Python (learn-env)",
   "language": "python",
   "name": "learn-env"
  },
  "language_info": {
   "codemirror_mode": {
    "name": "ipython",
    "version": 3
   },
   "file_extension": ".py",
   "mimetype": "text/x-python",
   "name": "python",
   "nbconvert_exporter": "python",
   "pygments_lexer": "ipython3",
   "version": "3.8.5"
  }
 },
 "nbformat": 4,
 "nbformat_minor": 4
}
